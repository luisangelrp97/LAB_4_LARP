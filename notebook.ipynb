{
 "cells": [
  {
   "cell_type": "markdown",
   "metadata": {},
   "source": [
    "<img src=\"http://oci02.img.iteso.mx/identidad_de_instancia_2018/ITESO/Logos%20ITESO/Logo-ITESO-Principal.jpg\">"
   ]
  },
  {
   "cell_type": "markdown",
   "metadata": {},
   "source": [
    "<center> <font color= #004A94> <font size = 5> Ingeniería Financiera | ITESO </font> <br> <br>"
   ]
  },
  {
   "cell_type": "markdown",
   "metadata": {},
   "source": [
    "<center> <font color= #004A94> <font size = 6> Microestructura y Sistemas de Trading </font> <br> <br>"
   ]
  },
  {
   "cell_type": "markdown",
   "metadata": {},
   "source": [
    "<center> <font color=#42c29b><font size=5> Laboratorio 4 <br> <br> Análisis fundamental </font> <br> <br>"
   ]
  },
  {
   "cell_type": "markdown",
   "metadata": {},
   "source": [
    "<center> <H3>Profesor:</H1><font color=#004A94><font size=4> I.F. Juan Francisco Muñoz Elguezabal | franciscome@iteso.mx </font> <br> <br>"
   ]
  },
  {
   "cell_type": "markdown",
   "metadata": {},
   "source": [
    "<center> <H3>Alumno:</H1><font color=#004A94><font size=4> I.F. Luis Ángel Ruiz Padilla | if708105@iteso.mx </font> <br> <br>"
   ]
  },
  {
   "cell_type": "markdown",
   "metadata": {},
   "source": [
    "## Introducción \n",
    "Para el laboratorio 4 se analizó el comportamiento de la pareja USD/MXN con respecto al indicador ecónomico Initial Jobless Claims de la economia de Estados Unidos, buscando patrones temporales, el cual se publica de manera mensual y contabiliza el numero de personas que piden el seguro de desempleo por primera vez. Este indicador refleja la estabilidad o inestabilidad del sector laboral. \n",
    "\n",
    "Se estudió el indicador y se crearon 4 escenarios, para tomar decisiones de inversion con la pareja USD/MXN."
   ]
  },
  {
   "cell_type": "markdown",
   "metadata": {},
   "source": [
    "# Aspectos financieros\n",
    "## Indicador:  Initial Jobless Claims de Estados Unidos \n"
   ]
  },
  {
   "cell_type": "markdown",
   "metadata": {},
   "source": [
    "## 5 validaciones "
   ]
  },
  {
   "cell_type": "markdown",
   "metadata": {},
   "source": []
  }
 ],
 "metadata": {
  "kernelspec": {
   "display_name": "Python 3",
   "language": "python",
   "name": "python3"
  },
  "language_info": {
   "codemirror_mode": {
    "name": "ipython",
    "version": 3
   },
   "file_extension": ".py",
   "mimetype": "text/x-python",
   "name": "python",
   "nbconvert_exporter": "python",
   "pygments_lexer": "ipython3",
   "version": "3.6.5"
  }
 },
 "nbformat": 4,
 "nbformat_minor": 2
}
